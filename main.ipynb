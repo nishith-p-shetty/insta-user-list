{
 "cells": [
  {
   "cell_type": "code",
   "execution_count": 1,
   "id": "b4bcf691-0cd9-4ca8-a203-87e7388f1402",
   "metadata": {},
   "outputs": [],
   "source": [
    "import instaloader"
   ]
  },
  {
   "cell_type": "code",
   "execution_count": 2,
   "id": "8fa00242-a7bf-46e1-8525-1ecfc7e66fcf",
   "metadata": {},
   "outputs": [],
   "source": [
    "USERNAME='XXXXXXXXXXXXXX'\n",
    "PASSWORD='XXXXXXXXXXXXXX'"
   ]
  },
  {
   "cell_type": "code",
   "execution_count": 3,
   "id": "a077327f-1b38-4a91-b3d5-178fb4c4c439",
   "metadata": {},
   "outputs": [],
   "source": [
    "L = instaloader.Instaloader()"
   ]
  },
  {
   "cell_type": "code",
   "execution_count": 4,
   "id": "d30104a0-d18d-4d28-a0e3-476ea89b0a28",
   "metadata": {},
   "outputs": [],
   "source": [
    "L.login(USERNAME, PASSWORD)"
   ]
  },
  {
   "cell_type": "code",
   "execution_count": 5,
   "id": "ea711e1f-535f-4879-b5cc-aaf52a9a789b",
   "metadata": {},
   "outputs": [],
   "source": [
    "FOLLOWERS=[]\n",
    "FOLLOWING=[]\n",
    "i_flwng_oth_no_flbk=[]\n",
    "oth_flwing_me_no_flbk=[]"
   ]
  },
  {
   "cell_type": "code",
   "execution_count": 6,
   "id": "1dda6573-e5bb-4a9f-ab15-0ed6e8df1946",
   "metadata": {},
   "outputs": [],
   "source": [
    "profile = instaloader.Profile.from_username(L.context, USERNAME)"
   ]
  },
  {
   "cell_type": "code",
   "execution_count": 7,
   "id": "27c68d14-2faf-4b06-ae15-f63ddca7c275",
   "metadata": {},
   "outputs": [],
   "source": [
    "for follower in profile.get_followers():\n",
    "    FOLLOWERS.append(follower.username)"
   ]
  },
  {
   "cell_type": "code",
   "execution_count": 8,
   "id": "43f5769d-c5de-4d48-9d40-864bb0d957d7",
   "metadata": {},
   "outputs": [],
   "source": [
    "for followee in profile.get_followees():\n",
    "    FOLLOWING.append(followee.username)"
   ]
  },
  {
   "cell_type": "code",
   "execution_count": 9,
   "id": "10866911-b766-4367-b99d-64293f42c935",
   "metadata": {},
   "outputs": [],
   "source": [
    "for i in FOLLOWERS:\n",
    "    if i not in FOLLOWING:\n",
    "        oth_flwing_me_no_flbk.append(i)\n",
    "\n",
    "for i in FOLLOWING:\n",
    "    if i not in FOLLOWERS:\n",
    "        i_flwng_oth_no_flbk.append(i)"
   ]
  },
  {
   "cell_type": "code",
   "execution_count": 11,
   "id": "8920f041-e207-43ef-9d88-7816921216df",
   "metadata": {},
   "outputs": [],
   "source": [
    "with open('./index.html', 'w') as file:\n",
    "    file.write('''<!DOCTYPE html>\n",
    "<html lang=\"en\">\n",
    "\t<head>\n",
    "\t\t<meta charset=\"UTF-8\" />\n",
    "\t\t<meta name=\"viewport\" content=\"width=device-width, initial-scale=1.0\" />\n",
    "\t\t<title>Insta-Useer-List</title>\n",
    "\t\t<style>\n",
    "\t\t\ttable,\n",
    "\t\t\tth,\n",
    "\t\t\ttd {\n",
    "\t\t\t\tborder: 2px solid black;\n",
    "                border-collapse: collapse;\n",
    "                border-radius: 10px;\n",
    "                padding: 15px;\n",
    "\t\t\t}\n",
    "\t\t</style>\n",
    "\t</head>\n",
    "\t<body>\n",
    "\t\t<table>\n",
    "            <caption>To Unfollow</caption>\n",
    "\t\t\t<tr>\n",
    "                <th>Sl. No.</th>\n",
    "\t\t\t\t<th>Profile Picture</th>\n",
    "\t\t\t\t<th>Name</th>\n",
    "\t\t\t\t<th>Username</th>\n",
    "\t\t\t\t<th>Bio</th>\n",
    "                <th>Post Count</th>\n",
    "\t\t\t\t<th>Followers</th>\n",
    "\t\t\t\t<th>Following</th>\n",
    "\t\t\t\t<th>Is Private</th>\n",
    "\t\t\t</tr>\n",
    "            <tr>\n",
    "                <td></td>\n",
    "\t\t\t\t<td></td>\n",
    "\t\t\t\t<td></td>\n",
    "\t\t\t\t<td></td>\n",
    "\t\t\t\t<td></td>\n",
    "\t\t\t\t<td></td>\n",
    "\t\t\t\t<td></td>\n",
    "\t\t\t\t<td></td>\n",
    "\t\t\t\t<td></td>\n",
    "\t\t\t</tr>''')"
   ]
  },
  {
   "cell_type": "code",
   "execution_count": 12,
   "id": "cdc53273-845e-44aa-9558-f9ddd2227245",
   "metadata": {},
   "outputs": [],
   "source": [
    "with open('./index.html', 'a') as file:\n",
    "    for idx, usrname in enumerate(i_flwng_oth_no_flbk):\n",
    "        profile = instaloader.Profile.from_username(L.context, usrname)\n",
    "        file.write(f'''\n",
    "    \t\t\t<tr>\n",
    "                    <td>{idx+1}</td>\n",
    "    \t\t\t\t<td><a href=\"{profile.profile_pic_url}\" target=\"_blank\">Pic</a></td>\n",
    "    \t\t\t\t<td>{profile.full_name}</td>\n",
    "    \t\t\t\t<td>\n",
    "    \t\t\t\t\t<a href=\"https://www.instagram.com/{profile.username}/\"target=\"_blank\">{profile.username}</a>\n",
    "    \t\t\t\t</td>\n",
    "    \t\t\t\t<td>{profile.biography}</td>\n",
    "    \t\t\t\t<td>{profile.get_posts().count}</td>\n",
    "    \t\t\t\t<td>{profile.followers}</td>\n",
    "    \t\t\t\t<td>{profile.followees}</td>\n",
    "    \t\t\t\t<td>{profile.is_private}</td>\n",
    "                </tr>''')"
   ]
  },
  {
   "cell_type": "code",
   "execution_count": 13,
   "id": "f7bb8336-7f26-42e1-8035-db96f339ee8d",
   "metadata": {},
   "outputs": [],
   "source": [
    "with open('./index.html', 'a') as file:\n",
    "    file.write('''\n",
    "\t\t</table>\n",
    "        <br>\n",
    "        <br>\n",
    "        <br>\n",
    "        <table>\n",
    "            <caption>To Follow</caption>\n",
    "\t\t\t<tr>\n",
    "                <th>Sl. No.</th>\n",
    "\t\t\t\t<th>Profile Picture</th>\n",
    "\t\t\t\t<th>Name</th>\n",
    "\t\t\t\t<th>Username</th>\n",
    "\t\t\t\t<th>Bio</th>\n",
    "                <th>Post Count</th>\n",
    "\t\t\t\t<th>Followers</th>\n",
    "\t\t\t\t<th>Following</th>\n",
    "\t\t\t\t<th>Is Private</th>\n",
    "\t\t\t</tr>\n",
    "            <tr>\n",
    "                <td></td>\n",
    "\t\t\t\t<td></td>\n",
    "\t\t\t\t<td></td>\n",
    "\t\t\t\t<td></td>\n",
    "\t\t\t\t<td></td>\n",
    "\t\t\t\t<td></td>\n",
    "\t\t\t\t<td></td>\n",
    "\t\t\t\t<td></td>\n",
    "\t\t\t\t<td></td>\n",
    "\t\t\t</tr>''')"
   ]
  },
  {
   "cell_type": "code",
   "execution_count": 14,
   "id": "cff91967-6e03-43c9-9a70-96b8f225a8c4",
   "metadata": {},
   "outputs": [],
   "source": [
    "with open('./index.html', 'a') as file:\n",
    "    for idx, usrname in enumerate(oth_flwing_me_no_flbk):\n",
    "        profile = instaloader.Profile.from_username(L.context, usrname)\n",
    "        file.write(f'''\n",
    "    \t\t\t<tr>\n",
    "                    <td>{idx+1}</td>\n",
    "    \t\t\t\t<td><a href=\"{profile.profile_pic_url}\" target=\"_blank\">Pic</a></td>\n",
    "    \t\t\t\t<td>{profile.full_name}</td>\n",
    "    \t\t\t\t<td>\n",
    "    \t\t\t\t\t<a href=\"https://www.instagram.com/{profile.username}/\"target=\"_blank\">{profile.username}</a>\n",
    "    \t\t\t\t</td>\n",
    "    \t\t\t\t<td>{profile.biography}</td>\n",
    "    \t\t\t\t<td>{profile.get_posts().count}</td>\n",
    "    \t\t\t\t<td>{profile.followers}</td>\n",
    "    \t\t\t\t<td>{profile.followees}</td>\n",
    "    \t\t\t\t<td>{profile.is_private}</td>\n",
    "                </tr>''')"
   ]
  },
  {
   "cell_type": "code",
   "execution_count": 15,
   "id": "dbf9cf60-4fe2-4b75-88a8-5ca4b29145b6",
   "metadata": {},
   "outputs": [],
   "source": [
    "with open('./index.html', 'a') as file:\n",
    "    file.write('''\n",
    "\t\t</table>\n",
    "\t</body>\n",
    "</html>''')"
   ]
  }
 ],
 "metadata": {
  "kernelspec": {
   "display_name": "Python 3 (ipykernel)",
   "language": "python",
   "name": "python3"
  },
  "language_info": {
   "codemirror_mode": {
    "name": "ipython",
    "version": 3
   },
   "file_extension": ".py",
   "mimetype": "text/x-python",
   "name": "python",
   "nbconvert_exporter": "python",
   "pygments_lexer": "ipython3",
   "version": "3.11.2"
  }
 },
 "nbformat": 4,
 "nbformat_minor": 5
}
